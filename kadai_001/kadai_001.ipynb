{
 "cells": [
  {
   "cell_type": "code",
   "execution_count": 6,
   "id": "2b6a91e4",
   "metadata": {},
   "outputs": [],
   "source": [
    "import openpyxl\n",
    "from datetime import datetime"
   ]
  },
  {
   "cell_type": "code",
   "execution_count": 7,
   "id": "e5aea2d0",
   "metadata": {},
   "outputs": [],
   "source": [
    "today = datetime.today()\n",
    "backup_filename = f\"請求書_{today.strftime('%Y%m%d')}.xlsx\"\n",
    "wb = openpyxl.Workbook()\n",
    "ws = wb.active"
   ]
  },
  {
   "cell_type": "code",
   "execution_count": 8,
   "id": "a84ea4c6",
   "metadata": {},
   "outputs": [],
   "source": [
    "campany_data = [\n",
    "    \"株式会社ABC\",\n",
    "    \"〒101-0022 東京都千代田区神田練塀町300\",\n",
    "    \"TEL:03-1234-5678 FAX:03-1234-5678\",\n",
    "    \"担当者名:鈴木一郎 様\"\n",
    "]\n",
    "\n",
    "today_date = today.strftime('%Y/%m/%d')\n",
    "no_date = [\n",
    "    [\"No.\", \"0001\"],\n",
    "    [\"日付\", today_date]\n",
    "]\n",
    "\n",
    "product_data = [\n",
    "    [\"商品名\", \"数量\", \"単価\", \"金額\"],\n",
    "    [\"商品A\", 2, 10000, 20000],\n",
    "    [\"商品B\", 1, 15000, 15000],\n",
    "]"
   ]
  },
  {
   "cell_type": "code",
   "execution_count": 9,
   "id": "eb80b420",
   "metadata": {},
   "outputs": [],
   "source": [
    "#請求書を書き込み\n",
    "ws['B2'].value = '請求書'\n",
    "#campany_dataを書き込み\n",
    "for i in range(0,4):\n",
    "    ws.cell(4+i,2,value = campany_data[i])\n",
    "#No_dateを書き込み\n",
    "start_row = 4\n",
    "start_col = 6\n",
    "\n",
    "for i, row in enumerate(no_date):\n",
    "    for j, value in enumerate(row):\n",
    "        ws.cell(row=start_row + i, column=start_col + j).value = value\n",
    "\n",
    "start_row = 10\n",
    "start_col = 2       \n",
    "for i, row in enumerate(product_data):\n",
    "    for j, value in enumerate(row):\n",
    "        ws.cell(row=start_row + i, column=start_col + j).value = value\n",
    "        \n",
    "#商品金額合計\n",
    "ws['E13'] = 35000\n",
    "#小計以下を書き込み\n",
    "ws['B15'] = \"小計\"\n",
    "ws['E15'] = 35000\n",
    "ws['B16'] = \"消費税\"\n",
    "ws['E16'] = 3500\n",
    "ws['B17'] = \"合計\"\n",
    "ws['E17'] = 38500"
   ]
  },
  {
   "cell_type": "code",
   "execution_count": 11,
   "id": "92fa5728",
   "metadata": {},
   "outputs": [],
   "source": [
    "wb.save(backup_filename)"
   ]
  },
  {
   "cell_type": "code",
   "execution_count": null,
   "id": "ca16782d",
   "metadata": {},
   "outputs": [],
   "source": []
  }
 ],
 "metadata": {
  "kernelspec": {
   "display_name": "Python 3 (ipykernel)",
   "language": "python",
   "name": "python3"
  },
  "language_info": {
   "codemirror_mode": {
    "name": "ipython",
    "version": 3
   },
   "file_extension": ".py",
   "mimetype": "text/x-python",
   "name": "python",
   "nbconvert_exporter": "python",
   "pygments_lexer": "ipython3",
   "version": "3.9.17"
  }
 },
 "nbformat": 4,
 "nbformat_minor": 5
}
