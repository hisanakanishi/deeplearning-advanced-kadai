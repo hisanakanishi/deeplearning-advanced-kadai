{
 "cells": [
  {
   "cell_type": "code",
   "execution_count": 1,
   "id": "94921d48",
   "metadata": {},
   "outputs": [],
   "source": [
    "from selenium import webdriver\n",
    "from selenium.webdriver.chrome.service import Service\n",
    "from webdriver_manager.chrome import ChromeDriverManager\n",
    "from selenium.webdriver.common.by import By\n",
    "from selenium.webdriver.support.ui import WebDriverWait\n",
    "from selenium.webdriver.support import expected_conditions as EC\n",
    "from getpass import getpass"
   ]
  },
  {
   "cell_type": "code",
   "execution_count": 2,
   "id": "b5b24a14",
   "metadata": {},
   "outputs": [],
   "source": [
    "service = Service(ChromeDriverManager().install())\n",
    "browser = webdriver.Chrome(service=service)"
   ]
  },
  {
   "cell_type": "code",
   "execution_count": 3,
   "id": "a1aa49ed",
   "metadata": {},
   "outputs": [],
   "source": [
    "#ログイン画面呼び出し\n",
    "url = \"https://terakoya.sejuku.net/register\"\n",
    "browser.get(url)\n",
    "wait = WebDriverWait(browser,10)\n",
    "header_login_button = wait.until(EC.visibility_of_element_located((By.CSS_SELECTOR,'#root > header > div')))\n",
    "header_login_button.click()"
   ]
  },
  {
   "cell_type": "code",
   "execution_count": 4,
   "id": "c08fc923",
   "metadata": {},
   "outputs": [
    {
     "name": "stdout",
     "output_type": "stream",
     "text": [
      "パスワードを入力してください:········\n"
     ]
    }
   ],
   "source": [
    "email_address = \"31nakanishi44@gmail.com\"\n",
    "password = getpass('パスワードを入力してください:')"
   ]
  },
  {
   "cell_type": "code",
   "execution_count": 5,
   "id": "119fef2f",
   "metadata": {},
   "outputs": [],
   "source": [
    "parent_element = browser.find_element(By.CSS_SELECTOR,'.sc-ksBlkl.inYbdj')\n",
    "email_input = parent_element.find_element(By.NAME, 'email')\n",
    "password_input = parent_element.find_element(By.NAME, 'password')"
   ]
  },
  {
   "cell_type": "code",
   "execution_count": 6,
   "id": "a102021b",
   "metadata": {},
   "outputs": [],
   "source": [
    "email_input.send_keys(email_address)\n",
    "password_input.send_keys(password)"
   ]
  },
  {
   "cell_type": "code",
   "execution_count": 7,
   "id": "5ed83a04",
   "metadata": {},
   "outputs": [],
   "source": [
    "wait = WebDriverWait(browser, 10)\n",
    "form_login_button = wait.until(EC.visibility_of_element_located((By.CSS_SELECTOR,'#root > div.sc-pyfCe.cZfPwB > div.sc-kDvujY.eCJBhf > div.sc-eDWCr.dePrRH > button')))\n",
    "form_login_button.click()"
   ]
  },
  {
   "cell_type": "code",
   "execution_count": 8,
   "id": "41c627db",
   "metadata": {},
   "outputs": [],
   "source": [
    "wait = WebDriverWait(browser, 10)\n",
    "personal_page = wait.until(EC.visibility_of_element_located((By.CSS_SELECTOR,\"#root > div.sc-fpRgNi.cyskbL > div > div > main > div > div > section.sc-cUpibT.fuiiBA > div.sc-hcsfzJ.cZpvkI > div.sc-eCDatj.fxbIZH > div\")))\n",
    "personal_page.click()"
   ]
  },
  {
   "cell_type": "code",
   "execution_count": 9,
   "id": "4a9d74a2",
   "metadata": {},
   "outputs": [],
   "source": [
    "edit_account = wait.until(EC.visibility_of_element_located((By.CSS_SELECTOR,\"#root > div.sc-jNVCqq.kXoFcu > div > div > main > div > div > div > div.sc-hDoLud.cBnDNi > div.sc-eVsXpO.jRgSmA > button\")))\n",
    "edit_account.click()"
   ]
  },
  {
   "cell_type": "code",
   "execution_count": 10,
   "id": "3f65714e",
   "metadata": {},
   "outputs": [],
   "source": [
    "user_information = wait.until(EC.visibility_of_element_located((By.CSS_SELECTOR,\"#root > div.sc-jNVCqq.kXoFcu > div > div > main > div > div.sc-jEKIOJ.yzaLr > button\")))\n",
    "user_information.click()"
   ]
  },
  {
   "cell_type": "code",
   "execution_count": 11,
   "id": "60e92c1e",
   "metadata": {},
   "outputs": [],
   "source": [
    "introduction = \"Pythonプログラミングに興味あります。\"\n",
    "self_infor = wait.until(EC.visibility_of_element_located((By.CSS_SELECTOR,\"#root > div.sc-jNVCqq.kXoFcu > div > div > main > div > div.sc-jEKIOJ.yzaLr > div:nth-child(14) > div.sc-jlLNHi.eAjfKt > textarea\")))\n",
    "self_infor.send_keys(introduction)"
   ]
  },
  {
   "cell_type": "code",
   "execution_count": 13,
   "id": "b3fffe79",
   "metadata": {},
   "outputs": [],
   "source": [
    "update = wait.until(EC.visibility_of_element_located((By.CSS_SELECTOR,\"#root > div.sc-jNVCqq.kXoFcu > div > div > main > div > div.sc-jEKIOJ.yzaLr > button.sc-eDvSVe.iklejs.sc-eGqszx.jewcaj\")))\n",
    "update.click()"
   ]
  },
  {
   "cell_type": "code",
   "execution_count": 14,
   "id": "57a0583e",
   "metadata": {},
   "outputs": [],
   "source": [
    "browser.quit()"
   ]
  }
 ],
 "metadata": {
  "kernelspec": {
   "display_name": "Python 3 (ipykernel)",
   "language": "python",
   "name": "python3"
  },
  "language_info": {
   "codemirror_mode": {
    "name": "ipython",
    "version": 3
   },
   "file_extension": ".py",
   "mimetype": "text/x-python",
   "name": "python",
   "nbconvert_exporter": "python",
   "pygments_lexer": "ipython3",
   "version": "3.9.17"
  }
 },
 "nbformat": 4,
 "nbformat_minor": 5
}
