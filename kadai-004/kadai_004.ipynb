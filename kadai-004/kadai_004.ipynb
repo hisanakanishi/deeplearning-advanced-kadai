{
 "cells": [
  {
   "cell_type": "code",
   "execution_count": 2,
   "id": "516917cd",
   "metadata": {},
   "outputs": [],
   "source": [
    "from selenium import webdriver\n",
    "from selenium.webdriver.chrome.service import Service\n",
    "from webdriver_manager.chrome import ChromeDriverManager\n",
    "from selenium.webdriver.common.by import By\n",
    "from selenium.webdriver.common.action_chains import ActionChains\n",
    "from selenium.webdriver.support.ui import WebDriverWait\n",
    "from selenium.webdriver.support import expected_conditions as EC\n",
    "from selenium.webdriver.common.action_chains import ActionChains\n",
    "from bs4 import BeautifulSoup\n",
    "import datetime\n",
    "import time"
   ]
  },
  {
   "cell_type": "code",
   "execution_count": 3,
   "id": "afad87ee",
   "metadata": {},
   "outputs": [],
   "source": [
    "data_list = [0,0,0,0]\n",
    "service = Service(ChromeDriverManager().install())\n",
    "browser = webdriver.Chrome(service=service)\n",
    "url = \"https://www.nikkei.com/markets/worldidx/chart/nk225/?type=6month\"\n",
    "browser.get(url)\n",
    "#スクレイピング開始時間取得\n",
    "start_time = time.time()\n",
    "#画像表示まで待機\n",
    "wait = WebDriverWait(browser, 5)\n",
    "wait.until(EC.visibility_of_element_located((By.CSS_SELECTOR, '#PAGE_TOP > div > div > div > a > img')))\n",
    "#HTML取得\n",
    "source = browser.page_source\n",
    "kabu_data = \"\""
   ]
  },
  {
   "cell_type": "code",
   "execution_count": 4,
   "id": "34ac53b3",
   "metadata": {},
   "outputs": [],
   "source": [
    "def extract_stock_data(source_data):\n",
    "    soup = BeautifulSoup(source_data,\"html.parser\")\n",
    "    kabu_data = soup.find('tr')\n",
    "    count = 0\n",
    "    for i in (kabu_data):\n",
    "        kabu_value = i.text\n",
    "        if count == 0:\n",
    "            date=datetime.datetime.strptime(kabu_value,\"%Y/%m/%d\")\n",
    "            kabu_value=date.strftime(\"%Y-%m-%d\")\n",
    "            if kabu_value == data_list[0]:\n",
    "                break\n",
    "            data_list[0] = kabu_value\n",
    "        if 1 <= count <= 3:\n",
    "            data_list[count] = kabu_value\n",
    "        if count == 4:\n",
    "            print(data_list)\n",
    "        count = count + 1"
   ]
  },
  {
   "cell_type": "code",
   "execution_count": 5,
   "id": "4e5c63e5",
   "metadata": {},
   "outputs": [],
   "source": [
    "graph = browser.find_element(By.CLASS_NAME,\"m-trend_chart_area\")\n",
    "actions = ActionChains(browser)\n",
    "actions.move_to_element(graph)\n",
    "actions.perform()\n",
    "#グラフの右橋にマウスを移動\n",
    "actions.move_by_offset(- (646) // 2,0)\n",
    "actions.perform()"
   ]
  },
  {
   "cell_type": "code",
   "execution_count": 6,
   "id": "e20dfe67",
   "metadata": {},
   "outputs": [
    {
     "name": "stdout",
     "output_type": "stream",
     "text": [
      "['2023-04-28', '始値: 28,705.91', '高値: 28,879.24', '安値: 28,499.51']\n",
      "['2023-05-01', '始値: 29,058.05', '高値: 29,145.89', '安値: 29,016.83']\n",
      "['2023-05-02', '始値: 29,278.8', '高値: 29,278.8', '安値: 29,083.13']\n",
      "['2023-05-09', '始値: 29,020.63', '高値: 29,262.36', '安値: 29,020.63']\n",
      "['2023-05-10', '始値: 29,189.41', '高値: 29,195.16', '安値: 29,070.11']\n",
      "['2023-05-12', '始値: 29,199.3', '高値: 29,426.06', '安値: 29,141.52']\n",
      "['2023-05-15', '始値: 29,547.04', '高値: 29,629.47', '安値: 29,475.97']\n"
     ]
    }
   ],
   "source": [
    "for i in range(0,10):\n",
    "    actions.move_by_offset(i,0)\n",
    "    actions.perform()\n",
    "    source = browser.page_source\n",
    "    extract_stock_data(source)"
   ]
  },
  {
   "cell_type": "code",
   "execution_count": 7,
   "id": "7f5a3f37",
   "metadata": {},
   "outputs": [
    {
     "name": "stdout",
     "output_type": "stream",
     "text": [
      "スクレイピングにかかった時間\n",
      "21.594072818756104\n"
     ]
    }
   ],
   "source": [
    "#終了作業\n",
    "browser.close()\n",
    "print(\"スクレイピングにかかった時間\")\n",
    "print(time.time() - start_time)"
   ]
  },
  {
   "cell_type": "code",
   "execution_count": null,
   "id": "1495c863",
   "metadata": {},
   "outputs": [],
   "source": []
  }
 ],
 "metadata": {
  "kernelspec": {
   "display_name": "Python 3 (ipykernel)",
   "language": "python",
   "name": "python3"
  },
  "language_info": {
   "codemirror_mode": {
    "name": "ipython",
    "version": 3
   },
   "file_extension": ".py",
   "mimetype": "text/x-python",
   "name": "python",
   "nbconvert_exporter": "python",
   "pygments_lexer": "ipython3",
   "version": "3.9.17"
  }
 },
 "nbformat": 4,
 "nbformat_minor": 5
}
